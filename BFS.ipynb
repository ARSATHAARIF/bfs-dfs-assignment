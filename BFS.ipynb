{
 "cells": [
  {
   "cell_type": "code",
   "execution_count": 1,
   "id": "7c5e1773-01ff-4026-b96e-3f24bc0a33aa",
   "metadata": {},
   "outputs": [],
   "source": [
    "My_adj={\n",
    "    'Start':['A','B'],\n",
    "    'A':['Start','E','F'],\n",
    "    'B':['Start','D','C'],\n",
    "    'C':['B'],\n",
    "    'D':['B','Goal'],\n",
    "    'E':['B','G'],\n",
    "    'F':['B'],\n",
    "    'G':['E'],\n",
    "    'Goal':['E','F']\n",
    "}"
   ]
  },
  {
   "cell_type": "code",
   "execution_count": 2,
   "id": "345f64d6-dabf-45b5-8167-a5a8245dcbe0",
   "metadata": {},
   "outputs": [
    {
     "data": {
      "text/plain": [
       "{'Start': ['A', 'B'],\n",
       " 'A': ['Start', 'E', 'F'],\n",
       " 'B': ['Start', 'D', 'C'],\n",
       " 'C': ['B'],\n",
       " 'D': ['B', 'Goal'],\n",
       " 'E': ['B', 'G'],\n",
       " 'F': ['B'],\n",
       " 'G': ['E'],\n",
       " 'Goal': ['E', 'F']}"
      ]
     },
     "execution_count": 2,
     "metadata": {},
     "output_type": "execute_result"
    }
   ],
   "source": [
    "My_adj"
   ]
  },
  {
   "cell_type": "markdown",
   "id": "2cc21ae8-ad6f-4bd4-8e67-7f1e094bfd17",
   "metadata": {},
   "source": [
    "### Handling Queue In Python"
   ]
  },
  {
   "cell_type": "code",
   "execution_count": 3,
   "id": "768b0113-051e-41ae-ab0d-68f7e8cd3727",
   "metadata": {},
   "outputs": [],
   "source": [
    "from collections import deque"
   ]
  },
  {
   "cell_type": "code",
   "execution_count": 15,
   "id": "2c00e4c5-bd30-4802-9766-d6f37ee49cc1",
   "metadata": {},
   "outputs": [
    {
     "name": "stdout",
     "output_type": "stream",
     "text": [
      "deque(['0', 'a', 'd', 'c', 'd', 'e'])\n"
     ]
    }
   ],
   "source": [
    "Q=deque([\"a\",\"d\",\"c\",\"d\",\"e\"])\n",
    "Q.appendleft(\"0\")\n",
    "print(Q)"
   ]
  },
  {
   "cell_type": "code",
   "execution_count": 34,
   "id": "73c92ec8-85e6-495f-8fd6-bd55a68a16b4",
   "metadata": {},
   "outputs": [],
   "source": [
    "Q.append(\"f\")"
   ]
  },
  {
   "cell_type": "code",
   "execution_count": 35,
   "id": "f011604e-3f44-4045-815b-78c1d246abb8",
   "metadata": {},
   "outputs": [
    {
     "data": {
      "text/plain": [
       "deque(['f'])"
      ]
     },
     "execution_count": 35,
     "metadata": {},
     "output_type": "execute_result"
    }
   ],
   "source": [
    "Q"
   ]
  },
  {
   "cell_type": "code",
   "execution_count": 36,
   "id": "07c86ecc-11de-4665-bf9c-b06fdc5317ff",
   "metadata": {},
   "outputs": [
    {
     "data": {
      "text/plain": [
       "'f'"
      ]
     },
     "execution_count": 36,
     "metadata": {},
     "output_type": "execute_result"
    }
   ],
   "source": [
    "Q.pop()"
   ]
  },
  {
   "cell_type": "code",
   "execution_count": 2,
   "id": "6b6138f7-bcf9-4c9c-bd30-5ba5d11fc246",
   "metadata": {},
   "outputs": [
    {
     "name": "stdout",
     "output_type": "stream",
     "text": [
      "{'Start': ['A', 'B'], 'A': ['Start', 'E', 'F'], 'B': ['Start', 'D', 'C'], 'C': ['B'], 'D': ['B', 'Goal'], 'E': ['B', 'G'], 'F': ['B'], 'G': ['E'], 'Goal': ['E', 'F']}\n"
     ]
    }
   ],
   "source": [
    "graph={\n",
    "     'Start':['A','B'],\n",
    "    'A':['Start','E','F'],\n",
    "    'B':['Start','D','C'],\n",
    "    'C':['B'],\n",
    "    'D':['B','Goal'],\n",
    "    'E':['B','G'],\n",
    "    'F':['B'],\n",
    "    'G':['E'],\n",
    "    'Goal':['E','F']\n",
    "}\n",
    "print(graph)"
   ]
  },
  {
   "cell_type": "code",
   "execution_count": 11,
   "id": "9a46ea35-4f6c-4cae-8d50-356bc0a2a3a4",
   "metadata": {},
   "outputs": [],
   "source": [
    "from collections import deque\n",
    "def bfs(graph,Start,Goal):\n",
    "    visited=[]\n",
    "    queue=deque([Start])\n",
    "    while queue:\n",
    "        node=queue.popleft()\n",
    "        if node not in visited:\n",
    "            visited.append(node)\n",
    "            print(\"I have visited:\",node)\n",
    "            neighbours=graph[node]\n",
    "            if node==Goal:\n",
    "                return(\"I have reached the goal,this is my traversed path:\",node)\n",
    "            for neighbour in neighbours:\n",
    "                queue.append(neighbour)"
   ]
  },
  {
   "cell_type": "code",
   "execution_count": 12,
   "id": "d99f82e9-e661-4b98-ae27-45df32bf9c93",
   "metadata": {},
   "outputs": [
    {
     "name": "stdout",
     "output_type": "stream",
     "text": [
      "I have visited: Start\n",
      "I have visited: A\n",
      "I have visited: B\n",
      "I have visited: E\n",
      "I have visited: F\n",
      "I have visited: D\n",
      "I have visited: C\n",
      "I have visited: G\n",
      "I have visited: Goal\n"
     ]
    },
    {
     "data": {
      "text/plain": [
       "('I have reached the goal,this is my traversed path:', 'Goal')"
      ]
     },
     "execution_count": 12,
     "metadata": {},
     "output_type": "execute_result"
    }
   ],
   "source": [
    "bfs(graph,'Start','Goal')"
   ]
  },
  {
   "cell_type": "code",
   "execution_count": null,
   "id": "6db4f1b1-b326-463d-af4d-8158cc06d988",
   "metadata": {},
   "outputs": [],
   "source": []
  }
 ],
 "metadata": {
  "kernelspec": {
   "display_name": "Python 3 (ipykernel)",
   "language": "python",
   "name": "python3"
  },
  "language_info": {
   "codemirror_mode": {
    "name": "ipython",
    "version": 3
   },
   "file_extension": ".py",
   "mimetype": "text/x-python",
   "name": "python",
   "nbconvert_exporter": "python",
   "pygments_lexer": "ipython3",
   "version": "3.9.18"
  }
 },
 "nbformat": 4,
 "nbformat_minor": 5
}
