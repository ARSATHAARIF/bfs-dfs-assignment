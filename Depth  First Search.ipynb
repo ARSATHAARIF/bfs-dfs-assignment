{
 "cells": [
  {
   "cell_type": "code",
   "execution_count": 1,
   "id": "32fd1d9a-cfa7-4794-af2f-7a90a7d4ddd5",
   "metadata": {},
   "outputs": [
    {
     "name": "stdout",
     "output_type": "stream",
     "text": [
      "{'Start': ['A', 'B'], 'A': ['Start', 'E', 'F'], 'B': ['Start', 'D', 'C'], 'C': ['B'], 'D': ['B', 'Goal'], 'E': ['B', 'G'], 'F': ['B'], 'G': ['E'], 'Goal': ['E', 'F']}\n"
     ]
    }
   ],
   "source": [
    "graph={\n",
    "     'Start':['A','B'],\n",
    "    'A':['Start','E','F'],\n",
    "    'B':['Start','D','C'],\n",
    "    'C':['B'],\n",
    "    'D':['B','Goal'],\n",
    "    'E':['B','G'],\n",
    "    'F':['B'],\n",
    "    'G':['E'],\n",
    "    'Goal':['E','F']\n",
    "}\n",
    "print(graph)"
   ]
  },
  {
   "cell_type": "code",
   "execution_count": 9,
   "id": "b3ee8bab-642a-4e61-8300-6f9460a1b4ca",
   "metadata": {},
   "outputs": [],
   "source": [
    "def dfs(graph,Start,Goal,visited):\n",
    "    stack = [Start]\n",
    "    while stack:\n",
    "        node=stack.pop()\n",
    "        if node not in visited:\n",
    "            visited.append(node)\n",
    "            if node==Goal:\n",
    "                print(visited)\n",
    "            for neighbour in graph[node]:\n",
    "                dfs(graph,neighbour,Goal,visited)"
   ]
  },
  {
   "cell_type": "code",
   "execution_count": 11,
   "id": "ce055ae4-0090-4da0-b2ec-4cb4dc4d22fb",
   "metadata": {},
   "outputs": [
    {
     "name": "stdout",
     "output_type": "stream",
     "text": [
      "['A', 'Start', 'B', 'D', 'Goal', 'E']\n"
     ]
    }
   ],
   "source": [
    "dfs(graph,'A','E',[])"
   ]
  },
  {
   "cell_type": "code",
   "execution_count": null,
   "id": "26fa43e3-8bcf-447e-a678-2c3f9c38430a",
   "metadata": {},
   "outputs": [],
   "source": []
  }
 ],
 "metadata": {
  "kernelspec": {
   "display_name": "Python 3 (ipykernel)",
   "language": "python",
   "name": "python3"
  },
  "language_info": {
   "codemirror_mode": {
    "name": "ipython",
    "version": 3
   },
   "file_extension": ".py",
   "mimetype": "text/x-python",
   "name": "python",
   "nbconvert_exporter": "python",
   "pygments_lexer": "ipython3",
   "version": "3.9.18"
  }
 },
 "nbformat": 4,
 "nbformat_minor": 5
}
